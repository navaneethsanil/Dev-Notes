{
  "nbformat": 4,
  "nbformat_minor": 0,
  "metadata": {
    "colab": {
      "provenance": [],
      "gpuType": "T4",
      "authorship_tag": "ABX9TyOdO4JPpbUmMGlR/qNiveMG",
      "include_colab_link": true
    },
    "kernelspec": {
      "name": "python3",
      "display_name": "Python 3"
    },
    "language_info": {
      "name": "python"
    },
    "accelerator": "GPU"
  },
  "cells": [
    {
      "cell_type": "markdown",
      "metadata": {
        "id": "view-in-github",
        "colab_type": "text"
      },
      "source": [
        "<a href=\"https://colab.research.google.com/github/navaneethsanil/Dev-Notes/blob/main/stable_diffusion/Stable_Diffusion.ipynb\" target=\"_parent\"><img src=\"https://colab.research.google.com/assets/colab-badge.svg\" alt=\"Open In Colab\"/></a>"
      ]
    },
    {
      "cell_type": "code",
      "source": [
        "!pip install diffusers invisible_watermark transformers accelerate safetensors"
      ],
      "metadata": {
        "id": "UBEmGZjRrHzz"
      },
      "execution_count": null,
      "outputs": []
    },
    {
      "cell_type": "code",
      "execution_count": null,
      "metadata": {
        "id": "5AAgrWIMqrjB"
      },
      "outputs": [],
      "source": [
        "import torch\n",
        "\n",
        "from diffusers import DiffusionPipeline"
      ]
    },
    {
      "cell_type": "code",
      "source": [
        "# Setting up device agnostic code\n",
        "device = \"cuda\" if torch.cuda.is_available() else \"cpu\"\n",
        "print(f\"Using {device} device\")"
      ],
      "metadata": {
        "id": "CalZJMilq1Ez"
      },
      "execution_count": null,
      "outputs": []
    },
    {
      "cell_type": "markdown",
      "source": [
        "# **Diffuser Model Pipeline**"
      ],
      "metadata": {
        "id": "34dSF0s33MHq"
      }
    },
    {
      "cell_type": "code",
      "source": [
        "pipe = DiffusionPipeline.from_pretrained(\"stabilityai/stable-diffusion-xl-base-1.0\", torch_dtype=torch.float16, use_safetensors=True, variant=\"fp16\").to(device)"
      ],
      "metadata": {
        "id": "7H5a95Czq47h"
      },
      "execution_count": null,
      "outputs": []
    },
    {
      "cell_type": "code",
      "source": [
        "prompt = \"An astronaut riding a green horse\"\n",
        "\n",
        "image = pipe(prompt=prompt).images[0]\n",
        "image"
      ],
      "metadata": {
        "id": "z1YZuOOsrXpR"
      },
      "execution_count": null,
      "outputs": []
    },
    {
      "cell_type": "code",
      "source": [],
      "metadata": {
        "id": "T1M-pdbbuMXK"
      },
      "execution_count": null,
      "outputs": []
    }
  ]
}